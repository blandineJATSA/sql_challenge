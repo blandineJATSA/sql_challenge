{
 "cells": [
  {
   "cell_type": "markdown",
   "metadata": {},
   "source": [
    "## Importations des tables orders et users"
   ]
  },
  {
   "cell_type": "code",
   "execution_count": 8,
   "metadata": {},
   "outputs": [],
   "source": [
    "import pandas as pd\n",
    "import duckdb as db\n",
    "\n",
    "# Création de la table users\n",
    "data_users = {\n",
    "    'user_id': [1, 2, 3, 4],\n",
    "    'user_name': ['Alice', 'Bob', 'Charlie', 'Diana']\n",
    "}\n",
    "\n",
    "users = pd.DataFrame(data_users)\n",
    "\n",
    "# Création de la table orders\n",
    "data_orders = {\n",
    "    'order_id': [101, 102, 103, 104, 105],\n",
    "    'user_id': [1, 2, 1, 3, 5],  # Notez que user_id 5 n'existe pas dans df_users\n",
    "    'product': ['Shirt', 'Shoes', 'Hat', 'Shirt', 'Bag'],\n",
    "    'amount': [20, 50, 15, 20, 25]\n",
    "}\n",
    "\n",
    "orders = pd.DataFrame(data_orders)\n",
    "\n"
   ]
  },
  {
   "cell_type": "markdown",
   "metadata": {},
   "source": [
    "## Les jointures\n",
    "\n",
    "Les jointures en SQL permettent de joindre, de fusionner deux ou plusieurs tables entre elles; des tables qui sont liés entre elles par des clés soit primaire ou étrangère\n",
    "\n",
    "Une table contient une clé primaire qui permet d’identifier de manière unique chaque enregistrement ou ligne de la table;\n",
    "\n",
    "Et une clé étrangère qui est la clé primaire d’une autre table.\n",
    "\n",
    "Je prends par exemple deux tables quelconques, la table Commande et la table client.\n",
    "La table client contient les colonnes telles que le nom, prénom, du client ainsi que la clé primaire qui permet d’identifier de manière unique chaque client.\n",
    "Et la table commande contient les informations sur chaque commande tel que le nom du produit, le prix de la commande, mais aussi l'identifiant du client qui a passé la commande et cet identifiant est la clé étrangère, car fait référence à la clé primaire de la table client\n",
    "vous savez pourquoi c’est la table commande qui porte la clé étrangère. \n",
    "\n",
    "Les types de jointures\n",
    "\n",
    "- inner join\n",
    "- Left join\n",
    "- full join\n",
    "- cross join\n",
    "- union join\n",
    "- self  join"
   ]
  },
  {
   "cell_type": "code",
   "execution_count": 6,
   "metadata": {},
   "outputs": [
    {
     "data": {
      "text/html": [
       "<div>\n",
       "<style scoped>\n",
       "    .dataframe tbody tr th:only-of-type {\n",
       "        vertical-align: middle;\n",
       "    }\n",
       "\n",
       "    .dataframe tbody tr th {\n",
       "        vertical-align: top;\n",
       "    }\n",
       "\n",
       "    .dataframe thead th {\n",
       "        text-align: right;\n",
       "    }\n",
       "</style>\n",
       "<table border=\"1\" class=\"dataframe\">\n",
       "  <thead>\n",
       "    <tr style=\"text-align: right;\">\n",
       "      <th></th>\n",
       "      <th>user_id</th>\n",
       "      <th>user_name</th>\n",
       "    </tr>\n",
       "  </thead>\n",
       "  <tbody>\n",
       "    <tr>\n",
       "      <th>0</th>\n",
       "      <td>1</td>\n",
       "      <td>Alice</td>\n",
       "    </tr>\n",
       "    <tr>\n",
       "      <th>1</th>\n",
       "      <td>2</td>\n",
       "      <td>Bob</td>\n",
       "    </tr>\n",
       "    <tr>\n",
       "      <th>2</th>\n",
       "      <td>3</td>\n",
       "      <td>Charlie</td>\n",
       "    </tr>\n",
       "    <tr>\n",
       "      <th>3</th>\n",
       "      <td>4</td>\n",
       "      <td>Diana</td>\n",
       "    </tr>\n",
       "  </tbody>\n",
       "</table>\n",
       "</div>"
      ],
      "text/plain": [
       "   user_id user_name\n",
       "0        1     Alice\n",
       "1        2       Bob\n",
       "2        3   Charlie\n",
       "3        4     Diana"
      ]
     },
     "execution_count": 6,
     "metadata": {},
     "output_type": "execute_result"
    }
   ],
   "source": [
    "users.head(10)"
   ]
  },
  {
   "cell_type": "code",
   "execution_count": 5,
   "metadata": {},
   "outputs": [
    {
     "data": {
      "text/html": [
       "<div>\n",
       "<style scoped>\n",
       "    .dataframe tbody tr th:only-of-type {\n",
       "        vertical-align: middle;\n",
       "    }\n",
       "\n",
       "    .dataframe tbody tr th {\n",
       "        vertical-align: top;\n",
       "    }\n",
       "\n",
       "    .dataframe thead th {\n",
       "        text-align: right;\n",
       "    }\n",
       "</style>\n",
       "<table border=\"1\" class=\"dataframe\">\n",
       "  <thead>\n",
       "    <tr style=\"text-align: right;\">\n",
       "      <th></th>\n",
       "      <th>order_id</th>\n",
       "      <th>user_id</th>\n",
       "      <th>product</th>\n",
       "      <th>amount</th>\n",
       "    </tr>\n",
       "  </thead>\n",
       "  <tbody>\n",
       "    <tr>\n",
       "      <th>0</th>\n",
       "      <td>101</td>\n",
       "      <td>1</td>\n",
       "      <td>Shirt</td>\n",
       "      <td>20</td>\n",
       "    </tr>\n",
       "    <tr>\n",
       "      <th>1</th>\n",
       "      <td>102</td>\n",
       "      <td>2</td>\n",
       "      <td>Shoes</td>\n",
       "      <td>50</td>\n",
       "    </tr>\n",
       "    <tr>\n",
       "      <th>2</th>\n",
       "      <td>103</td>\n",
       "      <td>1</td>\n",
       "      <td>Hat</td>\n",
       "      <td>15</td>\n",
       "    </tr>\n",
       "    <tr>\n",
       "      <th>3</th>\n",
       "      <td>104</td>\n",
       "      <td>3</td>\n",
       "      <td>Shirt</td>\n",
       "      <td>20</td>\n",
       "    </tr>\n",
       "    <tr>\n",
       "      <th>4</th>\n",
       "      <td>105</td>\n",
       "      <td>5</td>\n",
       "      <td>Bag</td>\n",
       "      <td>25</td>\n",
       "    </tr>\n",
       "  </tbody>\n",
       "</table>\n",
       "</div>"
      ],
      "text/plain": [
       "   order_id  user_id product  amount\n",
       "0       101        1   Shirt      20\n",
       "1       102        2   Shoes      50\n",
       "2       103        1     Hat      15\n",
       "3       104        3   Shirt      20\n",
       "4       105        5     Bag      25"
      ]
     },
     "execution_count": 5,
     "metadata": {},
     "output_type": "execute_result"
    }
   ],
   "source": [
    "orders.head(10)"
   ]
  },
  {
   "cell_type": "markdown",
   "metadata": {},
   "source": [
    "### inner join \n",
    "\n",
    "L'Inner Join combine les lignes des deux tables où il y a une correspondance sur la clé de jointure."
   ]
  },
  {
   "cell_type": "code",
   "execution_count": 10,
   "metadata": {},
   "outputs": [
    {
     "data": {
      "text/plain": [
       "┌─────────┬───────────┬──────────┬─────────┬────────┐\n",
       "│ user_id │ user_name │ order_id │ product │ amount │\n",
       "│  int64  │  varchar  │  int64   │ varchar │ int64  │\n",
       "├─────────┼───────────┼──────────┼─────────┼────────┤\n",
       "│       1 │ Alice     │      101 │ Shirt   │     20 │\n",
       "│       2 │ Bob       │      102 │ Shoes   │     50 │\n",
       "│       1 │ Alice     │      103 │ Hat     │     15 │\n",
       "│       3 │ Charlie   │      104 │ Shirt   │     20 │\n",
       "└─────────┴───────────┴──────────┴─────────┴────────┘"
      ]
     },
     "execution_count": 10,
     "metadata": {},
     "output_type": "execute_result"
    }
   ],
   "source": [
    "query = \"\"\"\n",
    "SELECT users.user_id, users.user_name, orders.order_id, orders.product, orders.amount\n",
    "FROM users\n",
    "INNER JOIN orders ON users.user_id = orders.user_id;\n",
    "\"\"\"\n",
    "\n",
    "db.sql(query)"
   ]
  },
  {
   "cell_type": "markdown",
   "metadata": {},
   "source": [
    "### left join\n",
    "\n",
    "Le Left Join retourne toutes les lignes de la table de gauche (users), ainsi que les lignes correspondantes de la table de droite (orders). Si aucune correspondance n'est trouvée, les résultats de la table de droite contiendront des NULL."
   ]
  },
  {
   "cell_type": "code",
   "execution_count": 11,
   "metadata": {},
   "outputs": [
    {
     "data": {
      "text/plain": [
       "┌─────────┬───────────┬──────────┬─────────┬────────┐\n",
       "│ user_id │ user_name │ order_id │ product │ amount │\n",
       "│  int64  │  varchar  │  int64   │ varchar │ int64  │\n",
       "├─────────┼───────────┼──────────┼─────────┼────────┤\n",
       "│       1 │ Alice     │      103 │ Hat     │     15 │\n",
       "│       2 │ Bob       │      102 │ Shoes   │     50 │\n",
       "│       3 │ Charlie   │      104 │ Shirt   │     20 │\n",
       "│       1 │ Alice     │      101 │ Shirt   │     20 │\n",
       "│       4 │ Diana     │     NULL │ NULL    │   NULL │\n",
       "└─────────┴───────────┴──────────┴─────────┴────────┘"
      ]
     },
     "execution_count": 11,
     "metadata": {},
     "output_type": "execute_result"
    }
   ],
   "source": [
    "query = \"\"\"\n",
    "SELECT users.user_id, users.user_name, orders.order_id, orders.product, orders.amount\n",
    "FROM users\n",
    "LEFT JOIN orders ON users.user_id = orders.user_id;\n",
    "\n",
    "\"\"\"\n",
    "\n",
    "db.sql(query)"
   ]
  },
  {
   "cell_type": "markdown",
   "metadata": {},
   "source": [
    "### full Join\n",
    "\n",
    "Le Full Join (ou Full Outer Join) retourne toutes les lignes lorsque les conditions sont remplies dans l'une ou l'autre des tables. Les lignes non appariées dans l'une ou l'autre table apparaîtront avec des NULL pour les colonnes de la table qui ne correspond pas.\n"
   ]
  },
  {
   "cell_type": "code",
   "execution_count": 17,
   "metadata": {},
   "outputs": [
    {
     "data": {
      "text/plain": [
       "┌─────────┬───────────┬──────────┬─────────┬────────┐\n",
       "│ user_id │ user_name │ order_id │ product │ amount │\n",
       "│  int64  │  varchar  │  int64   │ varchar │ int64  │\n",
       "├─────────┼───────────┼──────────┼─────────┼────────┤\n",
       "│       1 │ Alice     │      103 │ Hat     │     15 │\n",
       "│       2 │ Bob       │      102 │ Shoes   │     50 │\n",
       "│       3 │ Charlie   │      104 │ Shirt   │     20 │\n",
       "│       1 │ Alice     │      101 │ Shirt   │     20 │\n",
       "│       4 │ Diana     │     NULL │ NULL    │   NULL │\n",
       "│    NULL │ NULL      │      105 │ Bag     │     25 │\n",
       "└─────────┴───────────┴──────────┴─────────┴────────┘"
      ]
     },
     "execution_count": 17,
     "metadata": {},
     "output_type": "execute_result"
    }
   ],
   "source": [
    "query = \"\"\"\n",
    "SELECT users.user_id, users.user_name, orders.order_id, orders.product, orders.amount\n",
    "FROM users\n",
    "FULL JOIN orders ON users.user_id = orders.user_id;\n",
    "\n",
    "\n",
    "\"\"\"\n",
    "\n",
    "db.sql(query)"
   ]
  },
  {
   "cell_type": "markdown",
   "metadata": {},
   "source": [
    "### cross join\n"
   ]
  },
  {
   "cell_type": "code",
   "execution_count": 19,
   "metadata": {},
   "outputs": [
    {
     "data": {
      "text/plain": [
       "┌─────────┬───────────┬──────────┬─────────┬─────────┬────────┐\n",
       "│ user_id │ user_name │ order_id │ user_id │ product │ amount │\n",
       "│  int64  │  varchar  │  int64   │  int64  │ varchar │ int64  │\n",
       "├─────────┼───────────┼──────────┼─────────┼─────────┼────────┤\n",
       "│       1 │ Alice     │      101 │       1 │ Shirt   │     20 │\n",
       "│       1 │ Alice     │      102 │       2 │ Shoes   │     50 │\n",
       "│       1 │ Alice     │      103 │       1 │ Hat     │     15 │\n",
       "│       1 │ Alice     │      104 │       3 │ Shirt   │     20 │\n",
       "│       1 │ Alice     │      105 │       5 │ Bag     │     25 │\n",
       "│       2 │ Bob       │      101 │       1 │ Shirt   │     20 │\n",
       "│       2 │ Bob       │      102 │       2 │ Shoes   │     50 │\n",
       "│       2 │ Bob       │      103 │       1 │ Hat     │     15 │\n",
       "│       2 │ Bob       │      104 │       3 │ Shirt   │     20 │\n",
       "│       2 │ Bob       │      105 │       5 │ Bag     │     25 │\n",
       "│       3 │ Charlie   │      101 │       1 │ Shirt   │     20 │\n",
       "│       3 │ Charlie   │      102 │       2 │ Shoes   │     50 │\n",
       "│       3 │ Charlie   │      103 │       1 │ Hat     │     15 │\n",
       "│       3 │ Charlie   │      104 │       3 │ Shirt   │     20 │\n",
       "│       3 │ Charlie   │      105 │       5 │ Bag     │     25 │\n",
       "│       4 │ Diana     │      101 │       1 │ Shirt   │     20 │\n",
       "│       4 │ Diana     │      102 │       2 │ Shoes   │     50 │\n",
       "│       4 │ Diana     │      103 │       1 │ Hat     │     15 │\n",
       "│       4 │ Diana     │      104 │       3 │ Shirt   │     20 │\n",
       "│       4 │ Diana     │      105 │       5 │ Bag     │     25 │\n",
       "├─────────┴───────────┴──────────┴─────────┴─────────┴────────┤\n",
       "│ 20 rows                                           6 columns │\n",
       "└─────────────────────────────────────────────────────────────┘"
      ]
     },
     "execution_count": 19,
     "metadata": {},
     "output_type": "execute_result"
    }
   ],
   "source": [
    "query = \"\"\"\n",
    "SELECT *\n",
    "FROM users\n",
    "CROSS JOIN orders;\n",
    "\n",
    "\"\"\"\n",
    "\n",
    "db.sql(query)"
   ]
  },
  {
   "cell_type": "markdown",
   "metadata": {},
   "source": [
    "### union\n",
    "\n",
    "L'Union combine les résultats de deux requêtes SQL. Chaque requête doit retourner le même nombre de colonnes, et les types de données correspondants doivent être compatibles.\n",
    "Les doublons sont supprimés"
   ]
  },
  {
   "cell_type": "code",
   "execution_count": 22,
   "metadata": {},
   "outputs": [
    {
     "data": {
      "text/plain": [
       "┌─────────┬───────────┐\n",
       "│ user_id │ user_name │\n",
       "│  int64  │  varchar  │\n",
       "├─────────┼───────────┤\n",
       "│       2 │ Bob       │\n",
       "│       1 │ Alice     │\n",
       "│       3 │ Charlie   │\n",
       "│       4 │ Diana     │\n",
       "└─────────┴───────────┘"
      ]
     },
     "execution_count": 22,
     "metadata": {},
     "output_type": "execute_result"
    }
   ],
   "source": [
    "query = \"\"\"\n",
    "SELECT user_id, user_name FROM users\n",
    "UNION\n",
    "SELECT user_id, user_name FROM users;\n",
    "\n",
    "\"\"\"\n",
    "\n",
    "db.sql(query)"
   ]
  },
  {
   "cell_type": "markdown",
   "metadata": {},
   "source": [
    "### self join\n",
    "\n",
    "Un Self Join est une jointure d'une table avec elle-même. Cela peut être utile pour comparer les lignes au sein de la même table.\n",
    "Ces jointures sont utilisées lorsqu’une table possède une clé primaire et une clé étrangère à la fois.\n",
    "\n",
    "Exemple : Hiérarchie des employés"
   ]
  },
  {
   "cell_type": "markdown",
   "metadata": {},
   "source": [
    "#### table employees"
   ]
  },
  {
   "cell_type": "code",
   "execution_count": 25,
   "metadata": {},
   "outputs": [],
   "source": [
    "# Création de la table employees\n",
    "data_employees = {\n",
    "    'emp_id': [1, 2, 3, 4, 5],\n",
    "    'emp_name': ['John', 'Jane', 'Joe', 'Anna', 'Mike'],\n",
    "    'manager_id': [None, 1, 1, 2, 2]\n",
    "}\n",
    "\n",
    "employees = pd.DataFrame(data_employees)"
   ]
  },
  {
   "cell_type": "code",
   "execution_count": null,
   "metadata": {},
   "outputs": [],
   "source": []
  },
  {
   "cell_type": "markdown",
   "metadata": {},
   "source": [
    "#### requete self join"
   ]
  },
  {
   "cell_type": "code",
   "execution_count": 26,
   "metadata": {},
   "outputs": [
    {
     "data": {
      "text/html": [
       "<div>\n",
       "<style scoped>\n",
       "    .dataframe tbody tr th:only-of-type {\n",
       "        vertical-align: middle;\n",
       "    }\n",
       "\n",
       "    .dataframe tbody tr th {\n",
       "        vertical-align: top;\n",
       "    }\n",
       "\n",
       "    .dataframe thead th {\n",
       "        text-align: right;\n",
       "    }\n",
       "</style>\n",
       "<table border=\"1\" class=\"dataframe\">\n",
       "  <thead>\n",
       "    <tr style=\"text-align: right;\">\n",
       "      <th></th>\n",
       "      <th>emp_id</th>\n",
       "      <th>emp_name</th>\n",
       "      <th>manager_id</th>\n",
       "    </tr>\n",
       "  </thead>\n",
       "  <tbody>\n",
       "    <tr>\n",
       "      <th>0</th>\n",
       "      <td>1</td>\n",
       "      <td>John</td>\n",
       "      <td>NaN</td>\n",
       "    </tr>\n",
       "    <tr>\n",
       "      <th>1</th>\n",
       "      <td>2</td>\n",
       "      <td>Jane</td>\n",
       "      <td>1.0</td>\n",
       "    </tr>\n",
       "    <tr>\n",
       "      <th>2</th>\n",
       "      <td>3</td>\n",
       "      <td>Joe</td>\n",
       "      <td>1.0</td>\n",
       "    </tr>\n",
       "    <tr>\n",
       "      <th>3</th>\n",
       "      <td>4</td>\n",
       "      <td>Anna</td>\n",
       "      <td>2.0</td>\n",
       "    </tr>\n",
       "    <tr>\n",
       "      <th>4</th>\n",
       "      <td>5</td>\n",
       "      <td>Mike</td>\n",
       "      <td>2.0</td>\n",
       "    </tr>\n",
       "  </tbody>\n",
       "</table>\n",
       "</div>"
      ],
      "text/plain": [
       "   emp_id emp_name  manager_id\n",
       "0       1     John         NaN\n",
       "1       2     Jane         1.0\n",
       "2       3      Joe         1.0\n",
       "3       4     Anna         2.0\n",
       "4       5     Mike         2.0"
      ]
     },
     "execution_count": 26,
     "metadata": {},
     "output_type": "execute_result"
    }
   ],
   "source": [
    "employees.head()"
   ]
  },
  {
   "cell_type": "code",
   "execution_count": 24,
   "metadata": {},
   "outputs": [
    {
     "data": {
      "text/plain": [
       "┌──────────┬─────────┐\n",
       "│ employee │ manager │\n",
       "│ varchar  │ varchar │\n",
       "├──────────┼─────────┤\n",
       "│ Jane     │ John    │\n",
       "│ Joe      │ John    │\n",
       "│ Anna     │ Jane    │\n",
       "│ Mike     │ Jane    │\n",
       "│ John     │ NULL    │\n",
       "└──────────┴─────────┘"
      ]
     },
     "execution_count": 24,
     "metadata": {},
     "output_type": "execute_result"
    }
   ],
   "source": [
    "query =\"\"\" \n",
    "SELECT e1.emp_name AS employee, e2.emp_name AS manager\n",
    "FROM employees e1\n",
    "LEFT JOIN employees e2 ON e1.manager_id = e2.emp_id;\n",
    "\"\"\"\n",
    "db.sql(query)"
   ]
  }
 ],
 "metadata": {
  "kernelspec": {
   "display_name": ".venv",
   "language": "python",
   "name": "python3"
  },
  "language_info": {
   "codemirror_mode": {
    "name": "ipython",
    "version": 3
   },
   "file_extension": ".py",
   "mimetype": "text/x-python",
   "name": "python",
   "nbconvert_exporter": "python",
   "pygments_lexer": "ipython3",
   "version": "3.11.9"
  }
 },
 "nbformat": 4,
 "nbformat_minor": 2
}
