{
 "cells": [
  {
   "cell_type": "markdown",
   "metadata": {},
   "source": [
    "## importations des données"
   ]
  },
  {
   "cell_type": "code",
   "execution_count": 1,
   "metadata": {},
   "outputs": [],
   "source": [
    "# importation des packages\n",
    "\n",
    "import pandas as pd\n",
    "import duckdb as db\n",
    "import zipfile\n",
    "import csv"
   ]
  },
  {
   "cell_type": "code",
   "execution_count": 2,
   "metadata": {},
   "outputs": [
    {
     "data": {
      "text/html": [
       "<div>\n",
       "<style scoped>\n",
       "    .dataframe tbody tr th:only-of-type {\n",
       "        vertical-align: middle;\n",
       "    }\n",
       "\n",
       "    .dataframe tbody tr th {\n",
       "        vertical-align: top;\n",
       "    }\n",
       "\n",
       "    .dataframe thead th {\n",
       "        text-align: right;\n",
       "    }\n",
       "</style>\n",
       "<table border=\"1\" class=\"dataframe\">\n",
       "  <thead>\n",
       "    <tr style=\"text-align: right;\">\n",
       "      <th></th>\n",
       "      <th>id</th>\n",
       "      <th>product_id</th>\n",
       "      <th>created_at</th>\n",
       "      <th>sold_at</th>\n",
       "      <th>cost</th>\n",
       "      <th>product_category</th>\n",
       "      <th>product_name</th>\n",
       "      <th>product_brand</th>\n",
       "      <th>product_retail_price</th>\n",
       "      <th>product_department</th>\n",
       "      <th>product_sku</th>\n",
       "      <th>product_distribution_center_id</th>\n",
       "    </tr>\n",
       "  </thead>\n",
       "  <tbody>\n",
       "    <tr>\n",
       "      <th>0</th>\n",
       "      <td>67971</td>\n",
       "      <td>13844</td>\n",
       "      <td>2022-07-02 07:09:20+00:00</td>\n",
       "      <td>2022-07-24 06:33:20+00:00</td>\n",
       "      <td>2.76804</td>\n",
       "      <td>Accessories</td>\n",
       "      <td>(ONE) 1 Satin Headband</td>\n",
       "      <td>Funny Girl Designs</td>\n",
       "      <td>6.99</td>\n",
       "      <td>Women</td>\n",
       "      <td>2A3E953A5E3D81E67945BCE5519F84C8</td>\n",
       "      <td>7</td>\n",
       "    </tr>\n",
       "    <tr>\n",
       "      <th>1</th>\n",
       "      <td>67972</td>\n",
       "      <td>13844</td>\n",
       "      <td>2023-12-20 03:28:00+00:00</td>\n",
       "      <td>NaN</td>\n",
       "      <td>2.76804</td>\n",
       "      <td>Accessories</td>\n",
       "      <td>(ONE) 1 Satin Headband</td>\n",
       "      <td>Funny Girl Designs</td>\n",
       "      <td>6.99</td>\n",
       "      <td>Women</td>\n",
       "      <td>2A3E953A5E3D81E67945BCE5519F84C8</td>\n",
       "      <td>7</td>\n",
       "    </tr>\n",
       "  </tbody>\n",
       "</table>\n",
       "</div>"
      ],
      "text/plain": [
       "      id  product_id                 created_at                    sold_at  \\\n",
       "0  67971       13844  2022-07-02 07:09:20+00:00  2022-07-24 06:33:20+00:00   \n",
       "1  67972       13844  2023-12-20 03:28:00+00:00                        NaN   \n",
       "\n",
       "      cost product_category            product_name       product_brand  \\\n",
       "0  2.76804      Accessories  (ONE) 1 Satin Headband  Funny Girl Designs   \n",
       "1  2.76804      Accessories  (ONE) 1 Satin Headband  Funny Girl Designs   \n",
       "\n",
       "   product_retail_price product_department                       product_sku  \\\n",
       "0                  6.99              Women  2A3E953A5E3D81E67945BCE5519F84C8   \n",
       "1                  6.99              Women  2A3E953A5E3D81E67945BCE5519F84C8   \n",
       "\n",
       "   product_distribution_center_id  \n",
       "0                               7  \n",
       "1                               7  "
      ]
     },
     "execution_count": 2,
     "metadata": {},
     "output_type": "execute_result"
    }
   ],
   "source": [
    "# importation des données\n",
    "\n",
    "chemin_vers_fichier_zip = 'C:/Users/Moi/sql_challenge/database/inventory_items.csv.zip'\n",
    "\n",
    "# Ouvrir le fichier zip\n",
    "with zipfile.ZipFile(chemin_vers_fichier_zip, 'r') as z:\n",
    "    # Liste des fichiers contenus dans le zip\n",
    "    liste_fichiers = z.namelist()\n",
    "    # On suppose qu'il n'y a qu'un fichier CSV dans le zip\n",
    "    nom_fichier_csv = liste_fichiers[0]\n",
    "    # Lire le fichier CSV dans une dataframe\n",
    "    with z.open(nom_fichier_csv) as f:\n",
    "        inventory_items = pd.read_csv(f, encoding='latin1')\n",
    "\n",
    "# Afficher les 5 premières lignes de la dataframe\n",
    "inventory_items.head(2)"
   ]
  },
  {
   "cell_type": "code",
   "execution_count": 11,
   "metadata": {},
   "outputs": [
    {
     "name": "stderr",
     "output_type": "stream",
     "text": [
      "C:\\Users\\Moi\\AppData\\Local\\Temp\\ipykernel_3396\\3458977689.py:13: DtypeWarning: Columns (13) have mixed types. Specify dtype option on import or set low_memory=False.\n",
      "  events_temp = pd.read_csv(f, encoding='latin1')\n"
     ]
    },
    {
     "data": {
      "text/html": [
       "<div>\n",
       "<style scoped>\n",
       "    .dataframe tbody tr th:only-of-type {\n",
       "        vertical-align: middle;\n",
       "    }\n",
       "\n",
       "    .dataframe tbody tr th {\n",
       "        vertical-align: top;\n",
       "    }\n",
       "\n",
       "    .dataframe thead th {\n",
       "        text-align: right;\n",
       "    }\n",
       "</style>\n",
       "<table border=\"1\" class=\"dataframe\">\n",
       "  <thead>\n",
       "    <tr style=\"text-align: right;\">\n",
       "      <th></th>\n",
       "      <th>id</th>\n",
       "      <th>user_id</th>\n",
       "      <th>sequence_number</th>\n",
       "      <th>session_id</th>\n",
       "      <th>created_at</th>\n",
       "      <th>ip_address</th>\n",
       "      <th>city</th>\n",
       "      <th>state</th>\n",
       "      <th>postal_code</th>\n",
       "      <th>browser</th>\n",
       "      <th>traffic_source</th>\n",
       "      <th>uri</th>\n",
       "      <th>event_type</th>\n",
       "      <th>Unnamed: 13</th>\n",
       "    </tr>\n",
       "  </thead>\n",
       "  <tbody>\n",
       "    <tr>\n",
       "      <th>0</th>\n",
       "      <td>2198523</td>\n",
       "      <td>NaN</td>\n",
       "      <td>3</td>\n",
       "      <td>83889ed2-2adc-4b9a-af5d-154f6998e778</td>\n",
       "      <td>2021-06-17 17:30:00+00:00</td>\n",
       "      <td>138.143.9.202</td>\n",
       "      <td>SÆo Paulo</td>\n",
       "      <td>SÆo Paulo</td>\n",
       "      <td>02675-031</td>\n",
       "      <td>Chrome</td>\n",
       "      <td>Adwords</td>\n",
       "      <td>/cancel</td>\n",
       "      <td>cancel</td>\n",
       "      <td>NaN</td>\n",
       "    </tr>\n",
       "    <tr>\n",
       "      <th>1</th>\n",
       "      <td>1773216</td>\n",
       "      <td>NaN</td>\n",
       "      <td>3</td>\n",
       "      <td>7a3fc3f2-e84f-44fe-8876-eff76741f7a3</td>\n",
       "      <td>2020-08-07 08:41:00+00:00</td>\n",
       "      <td>85.114.141.79</td>\n",
       "      <td>Santa Isabel</td>\n",
       "      <td>SÆo Paulo</td>\n",
       "      <td>07500-000</td>\n",
       "      <td>Safari</td>\n",
       "      <td>Adwords</td>\n",
       "      <td>/cancel</td>\n",
       "      <td>cancel</td>\n",
       "      <td>NaN</td>\n",
       "    </tr>\n",
       "  </tbody>\n",
       "</table>\n",
       "</div>"
      ],
      "text/plain": [
       "        id  user_id  sequence_number                            session_id  \\\n",
       "0  2198523      NaN                3  83889ed2-2adc-4b9a-af5d-154f6998e778   \n",
       "1  1773216      NaN                3  7a3fc3f2-e84f-44fe-8876-eff76741f7a3   \n",
       "\n",
       "                  created_at     ip_address          city      state  \\\n",
       "0  2021-06-17 17:30:00+00:00  138.143.9.202     SÆo Paulo  SÆo Paulo   \n",
       "1  2020-08-07 08:41:00+00:00  85.114.141.79  Santa Isabel  SÆo Paulo   \n",
       "\n",
       "  postal_code browser traffic_source      uri event_type Unnamed: 13  \n",
       "0   02675-031  Chrome        Adwords  /cancel     cancel         NaN  \n",
       "1   07500-000  Safari        Adwords  /cancel     cancel         NaN  "
      ]
     },
     "execution_count": 11,
     "metadata": {},
     "output_type": "execute_result"
    }
   ],
   "source": [
    "# importation des données\n",
    "\n",
    "chemin_vers_fichier_zip = 'C:/Users/Moi/sql_challenge/database/events.zip'\n",
    "\n",
    "# Ouvrir le fichier zip\n",
    "with zipfile.ZipFile(chemin_vers_fichier_zip, 'r') as z:\n",
    "    # Liste des fichiers contenus dans le zip\n",
    "    liste_fichiers = z.namelist()\n",
    "    # On suppose qu'il n'y a qu'un fichier CSV dans le zip\n",
    "    nom_fichier_csv = liste_fichiers[0]\n",
    "    # Lire le fichier CSV dans une dataframe\n",
    "    with z.open(nom_fichier_csv) as f:\n",
    "        events_temp = pd.read_csv(f, encoding='latin1')\n",
    "\n",
    "# Afficher les 5 premières lignes de la dataframe\n",
    "events_temp.head(2)"
   ]
  },
  {
   "cell_type": "code",
   "execution_count": 12,
   "metadata": {},
   "outputs": [],
   "source": [
    "events = events_temp.copy()"
   ]
  },
  {
   "cell_type": "code",
   "execution_count": 30,
   "metadata": {},
   "outputs": [],
   "source": [
    "events = events.astype({col: str for col in events.select_dtypes(include='object').columns})"
   ]
  },
  {
   "cell_type": "code",
   "execution_count": 31,
   "metadata": {},
   "outputs": [
    {
     "data": {
      "text/html": [
       "<div>\n",
       "<style scoped>\n",
       "    .dataframe tbody tr th:only-of-type {\n",
       "        vertical-align: middle;\n",
       "    }\n",
       "\n",
       "    .dataframe tbody tr th {\n",
       "        vertical-align: top;\n",
       "    }\n",
       "\n",
       "    .dataframe thead th {\n",
       "        text-align: right;\n",
       "    }\n",
       "</style>\n",
       "<table border=\"1\" class=\"dataframe\">\n",
       "  <thead>\n",
       "    <tr style=\"text-align: right;\">\n",
       "      <th></th>\n",
       "      <th>id</th>\n",
       "      <th>user_id</th>\n",
       "      <th>sequence_number</th>\n",
       "      <th>session_id</th>\n",
       "      <th>created_at</th>\n",
       "      <th>ip_address</th>\n",
       "      <th>city</th>\n",
       "      <th>state</th>\n",
       "      <th>postal_code</th>\n",
       "      <th>browser</th>\n",
       "      <th>traffic_source</th>\n",
       "      <th>uri</th>\n",
       "      <th>event_type</th>\n",
       "      <th>Unnamed: 13</th>\n",
       "    </tr>\n",
       "  </thead>\n",
       "  <tbody>\n",
       "    <tr>\n",
       "      <th>0</th>\n",
       "      <td>2198523</td>\n",
       "      <td>NaN</td>\n",
       "      <td>3</td>\n",
       "      <td>83889ed2-2adc-4b9a-af5d-154f6998e778</td>\n",
       "      <td>2021-06-17 17:30:00+00:00</td>\n",
       "      <td>138.143.9.202</td>\n",
       "      <td>SÆo Paulo</td>\n",
       "      <td>SÆo Paulo</td>\n",
       "      <td>02675-031</td>\n",
       "      <td>Chrome</td>\n",
       "      <td>Adwords</td>\n",
       "      <td>/cancel</td>\n",
       "      <td>cancel</td>\n",
       "      <td>nan</td>\n",
       "    </tr>\n",
       "  </tbody>\n",
       "</table>\n",
       "</div>"
      ],
      "text/plain": [
       "        id  user_id  sequence_number                            session_id  \\\n",
       "0  2198523      NaN                3  83889ed2-2adc-4b9a-af5d-154f6998e778   \n",
       "\n",
       "                  created_at     ip_address       city      state postal_code  \\\n",
       "0  2021-06-17 17:30:00+00:00  138.143.9.202  SÆo Paulo  SÆo Paulo   02675-031   \n",
       "\n",
       "  browser traffic_source      uri event_type Unnamed: 13  \n",
       "0  Chrome        Adwords  /cancel     cancel         nan  "
      ]
     },
     "execution_count": 31,
     "metadata": {},
     "output_type": "execute_result"
    }
   ],
   "source": [
    "events.head(1)"
   ]
  },
  {
   "cell_type": "code",
   "execution_count": 35,
   "metadata": {},
   "outputs": [
    {
     "data": {
      "text/plain": [
       "id                   int64\n",
       "user_id            float64\n",
       "sequence_number      int64\n",
       "session_id          object\n",
       "created_at          object\n",
       "ip_address          object\n",
       "city                object\n",
       "state               object\n",
       "postal_code         object\n",
       "browser             object\n",
       "traffic_source      object\n",
       "uri                 object\n",
       "event_type          object\n",
       "Unnamed: 13         object\n",
       "dtype: object"
      ]
     },
     "execution_count": 35,
     "metadata": {},
     "output_type": "execute_result"
    }
   ],
   "source": [
    "events.dtypes"
   ]
  },
  {
   "cell_type": "code",
   "execution_count": 4,
   "metadata": {},
   "outputs": [
    {
     "data": {
      "text/html": [
       "<div>\n",
       "<style scoped>\n",
       "    .dataframe tbody tr th:only-of-type {\n",
       "        vertical-align: middle;\n",
       "    }\n",
       "\n",
       "    .dataframe tbody tr th {\n",
       "        vertical-align: top;\n",
       "    }\n",
       "\n",
       "    .dataframe thead th {\n",
       "        text-align: right;\n",
       "    }\n",
       "</style>\n",
       "<table border=\"1\" class=\"dataframe\">\n",
       "  <thead>\n",
       "    <tr style=\"text-align: right;\">\n",
       "      <th></th>\n",
       "      <th>id</th>\n",
       "      <th>first_name</th>\n",
       "      <th>last_name</th>\n",
       "      <th>email</th>\n",
       "      <th>age</th>\n",
       "      <th>gender</th>\n",
       "      <th>state</th>\n",
       "      <th>street_address</th>\n",
       "      <th>postal_code</th>\n",
       "      <th>city</th>\n",
       "      <th>country</th>\n",
       "      <th>latitude</th>\n",
       "      <th>longitude</th>\n",
       "      <th>traffic_source</th>\n",
       "      <th>created_at</th>\n",
       "    </tr>\n",
       "  </thead>\n",
       "  <tbody>\n",
       "    <tr>\n",
       "      <th>0</th>\n",
       "      <td>457</td>\n",
       "      <td>Timothy</td>\n",
       "      <td>Bush</td>\n",
       "      <td>timothybush@example.net</td>\n",
       "      <td>65</td>\n",
       "      <td>M</td>\n",
       "      <td>Acre</td>\n",
       "      <td>87620 Johnson Hills</td>\n",
       "      <td>69917-400</td>\n",
       "      <td>Rio Branco</td>\n",
       "      <td>Brasil</td>\n",
       "      <td>-9.945568</td>\n",
       "      <td>-67.83561</td>\n",
       "      <td>Search</td>\n",
       "      <td>2022-07-19 13:51:00+00:00</td>\n",
       "    </tr>\n",
       "    <tr>\n",
       "      <th>1</th>\n",
       "      <td>6578</td>\n",
       "      <td>Elizabeth</td>\n",
       "      <td>Martinez</td>\n",
       "      <td>elizabethmartinez@example.com</td>\n",
       "      <td>34</td>\n",
       "      <td>F</td>\n",
       "      <td>Acre</td>\n",
       "      <td>1705 Nielsen Land</td>\n",
       "      <td>69917-400</td>\n",
       "      <td>Rio Branco</td>\n",
       "      <td>Brasil</td>\n",
       "      <td>-9.945568</td>\n",
       "      <td>-67.83561</td>\n",
       "      <td>Search</td>\n",
       "      <td>2023-11-08 18:49:00+00:00</td>\n",
       "    </tr>\n",
       "    <tr>\n",
       "      <th>2</th>\n",
       "      <td>36280</td>\n",
       "      <td>Christopher</td>\n",
       "      <td>Mendoza</td>\n",
       "      <td>christophermendoza@example.net</td>\n",
       "      <td>13</td>\n",
       "      <td>M</td>\n",
       "      <td>Acre</td>\n",
       "      <td>125 Turner Isle Apt. 264</td>\n",
       "      <td>69917-400</td>\n",
       "      <td>Rio Branco</td>\n",
       "      <td>Brasil</td>\n",
       "      <td>-9.945568</td>\n",
       "      <td>-67.83561</td>\n",
       "      <td>Email</td>\n",
       "      <td>2019-08-24 06:10:00+00:00</td>\n",
       "    </tr>\n",
       "  </tbody>\n",
       "</table>\n",
       "</div>"
      ],
      "text/plain": [
       "      id   first_name last_name                           email  age gender  \\\n",
       "0    457      Timothy      Bush         timothybush@example.net   65      M   \n",
       "1   6578    Elizabeth  Martinez   elizabethmartinez@example.com   34      F   \n",
       "2  36280  Christopher   Mendoza  christophermendoza@example.net   13      M   \n",
       "\n",
       "  state            street_address postal_code        city country  latitude  \\\n",
       "0  Acre       87620 Johnson Hills   69917-400  Rio Branco  Brasil -9.945568   \n",
       "1  Acre         1705 Nielsen Land   69917-400  Rio Branco  Brasil -9.945568   \n",
       "2  Acre  125 Turner Isle Apt. 264   69917-400  Rio Branco  Brasil -9.945568   \n",
       "\n",
       "   longitude traffic_source                 created_at  \n",
       "0  -67.83561         Search  2022-07-19 13:51:00+00:00  \n",
       "1  -67.83561         Search  2023-11-08 18:49:00+00:00  \n",
       "2  -67.83561          Email  2019-08-24 06:10:00+00:00  "
      ]
     },
     "execution_count": 4,
     "metadata": {},
     "output_type": "execute_result"
    }
   ],
   "source": [
    "users = pd.read_csv('C:/Users/Moi/sql_challenge/database/users.csv')\n",
    "users.head(3)"
   ]
  },
  {
   "cell_type": "code",
   "execution_count": 5,
   "metadata": {},
   "outputs": [
    {
     "data": {
      "text/html": [
       "<div>\n",
       "<style scoped>\n",
       "    .dataframe tbody tr th:only-of-type {\n",
       "        vertical-align: middle;\n",
       "    }\n",
       "\n",
       "    .dataframe tbody tr th {\n",
       "        vertical-align: top;\n",
       "    }\n",
       "\n",
       "    .dataframe thead th {\n",
       "        text-align: right;\n",
       "    }\n",
       "</style>\n",
       "<table border=\"1\" class=\"dataframe\">\n",
       "  <thead>\n",
       "    <tr style=\"text-align: right;\">\n",
       "      <th></th>\n",
       "      <th>id</th>\n",
       "      <th>cost</th>\n",
       "      <th>category</th>\n",
       "      <th>name</th>\n",
       "      <th>brand</th>\n",
       "      <th>retail_price</th>\n",
       "      <th>department</th>\n",
       "      <th>sku</th>\n",
       "      <th>distribution_center_id</th>\n",
       "    </tr>\n",
       "  </thead>\n",
       "  <tbody>\n",
       "    <tr>\n",
       "      <th>0</th>\n",
       "      <td>13842</td>\n",
       "      <td>2.51875</td>\n",
       "      <td>Accessories</td>\n",
       "      <td>Low Profile Dyed Cotton Twill Cap - Navy W39S55D</td>\n",
       "      <td>MG</td>\n",
       "      <td>6.25</td>\n",
       "      <td>Women</td>\n",
       "      <td>EBD58B8A3F1D72F4206201DA62FB1204</td>\n",
       "      <td>1</td>\n",
       "    </tr>\n",
       "    <tr>\n",
       "      <th>1</th>\n",
       "      <td>13928</td>\n",
       "      <td>2.33835</td>\n",
       "      <td>Accessories</td>\n",
       "      <td>Low Profile Dyed Cotton Twill Cap - Putty W39S55D</td>\n",
       "      <td>MG</td>\n",
       "      <td>5.95</td>\n",
       "      <td>Women</td>\n",
       "      <td>2EAC42424D12436BDD6A5B8A88480CC3</td>\n",
       "      <td>1</td>\n",
       "    </tr>\n",
       "    <tr>\n",
       "      <th>2</th>\n",
       "      <td>14115</td>\n",
       "      <td>4.87956</td>\n",
       "      <td>Accessories</td>\n",
       "      <td>Enzyme Regular Solid Army Caps-Black W35S45D</td>\n",
       "      <td>MG</td>\n",
       "      <td>10.99</td>\n",
       "      <td>Women</td>\n",
       "      <td>EE364229B2791D1EF9355708EFF0BA34</td>\n",
       "      <td>1</td>\n",
       "    </tr>\n",
       "  </tbody>\n",
       "</table>\n",
       "</div>"
      ],
      "text/plain": [
       "      id     cost     category  \\\n",
       "0  13842  2.51875  Accessories   \n",
       "1  13928  2.33835  Accessories   \n",
       "2  14115  4.87956  Accessories   \n",
       "\n",
       "                                                name brand  retail_price  \\\n",
       "0   Low Profile Dyed Cotton Twill Cap - Navy W39S55D    MG          6.25   \n",
       "1  Low Profile Dyed Cotton Twill Cap - Putty W39S55D    MG          5.95   \n",
       "2       Enzyme Regular Solid Army Caps-Black W35S45D    MG         10.99   \n",
       "\n",
       "  department                               sku  distribution_center_id  \n",
       "0      Women  EBD58B8A3F1D72F4206201DA62FB1204                       1  \n",
       "1      Women  2EAC42424D12436BDD6A5B8A88480CC3                       1  \n",
       "2      Women  EE364229B2791D1EF9355708EFF0BA34                       1  "
      ]
     },
     "execution_count": 5,
     "metadata": {},
     "output_type": "execute_result"
    }
   ],
   "source": [
    "products = pd.read_csv('C:/Users/Moi/sql_challenge/database/products.csv')\n",
    "products.head(3)"
   ]
  },
  {
   "cell_type": "code",
   "execution_count": 6,
   "metadata": {},
   "outputs": [
    {
     "data": {
      "text/html": [
       "<div>\n",
       "<style scoped>\n",
       "    .dataframe tbody tr th:only-of-type {\n",
       "        vertical-align: middle;\n",
       "    }\n",
       "\n",
       "    .dataframe tbody tr th {\n",
       "        vertical-align: top;\n",
       "    }\n",
       "\n",
       "    .dataframe thead th {\n",
       "        text-align: right;\n",
       "    }\n",
       "</style>\n",
       "<table border=\"1\" class=\"dataframe\">\n",
       "  <thead>\n",
       "    <tr style=\"text-align: right;\">\n",
       "      <th></th>\n",
       "      <th>id</th>\n",
       "      <th>order_id</th>\n",
       "      <th>user_id</th>\n",
       "      <th>product_id</th>\n",
       "      <th>inventory_item_id</th>\n",
       "      <th>status</th>\n",
       "      <th>created_at</th>\n",
       "      <th>shipped_at</th>\n",
       "      <th>delivered_at</th>\n",
       "      <th>returned_at</th>\n",
       "      <th>sale_price</th>\n",
       "    </tr>\n",
       "  </thead>\n",
       "  <tbody>\n",
       "    <tr>\n",
       "      <th>0</th>\n",
       "      <td>152013</td>\n",
       "      <td>104663</td>\n",
       "      <td>83582</td>\n",
       "      <td>14235</td>\n",
       "      <td>410368</td>\n",
       "      <td>Cancelled</td>\n",
       "      <td>2023-05-07 06:08:40+00:00</td>\n",
       "      <td>NaN</td>\n",
       "      <td>NaN</td>\n",
       "      <td>NaN</td>\n",
       "      <td>0.02</td>\n",
       "    </tr>\n",
       "    <tr>\n",
       "      <th>1</th>\n",
       "      <td>40993</td>\n",
       "      <td>28204</td>\n",
       "      <td>22551</td>\n",
       "      <td>14235</td>\n",
       "      <td>110590</td>\n",
       "      <td>Complete</td>\n",
       "      <td>2023-03-14 03:47:21+00:00</td>\n",
       "      <td>2023-03-15 22:57:00+00:00</td>\n",
       "      <td>2023-03-18 01:08:00+00:00</td>\n",
       "      <td>NaN</td>\n",
       "      <td>0.02</td>\n",
       "    </tr>\n",
       "    <tr>\n",
       "      <th>2</th>\n",
       "      <td>51224</td>\n",
       "      <td>35223</td>\n",
       "      <td>28215</td>\n",
       "      <td>14235</td>\n",
       "      <td>138236</td>\n",
       "      <td>Complete</td>\n",
       "      <td>2023-12-05 13:25:30+00:00</td>\n",
       "      <td>2023-12-06 01:20:00+00:00</td>\n",
       "      <td>2023-12-10 10:04:00+00:00</td>\n",
       "      <td>NaN</td>\n",
       "      <td>0.02</td>\n",
       "    </tr>\n",
       "  </tbody>\n",
       "</table>\n",
       "</div>"
      ],
      "text/plain": [
       "       id  order_id  user_id  product_id  inventory_item_id     status  \\\n",
       "0  152013    104663    83582       14235             410368  Cancelled   \n",
       "1   40993     28204    22551       14235             110590   Complete   \n",
       "2   51224     35223    28215       14235             138236   Complete   \n",
       "\n",
       "                  created_at                 shipped_at  \\\n",
       "0  2023-05-07 06:08:40+00:00                        NaN   \n",
       "1  2023-03-14 03:47:21+00:00  2023-03-15 22:57:00+00:00   \n",
       "2  2023-12-05 13:25:30+00:00  2023-12-06 01:20:00+00:00   \n",
       "\n",
       "                delivered_at returned_at  sale_price  \n",
       "0                        NaN         NaN        0.02  \n",
       "1  2023-03-18 01:08:00+00:00         NaN        0.02  \n",
       "2  2023-12-10 10:04:00+00:00         NaN        0.02  "
      ]
     },
     "execution_count": 6,
     "metadata": {},
     "output_type": "execute_result"
    }
   ],
   "source": [
    "order_items = pd.read_csv('C:/Users/Moi/sql_challenge/database/order_items.csv')\n",
    "order_items.head(3)"
   ]
  },
  {
   "cell_type": "code",
   "execution_count": 7,
   "metadata": {},
   "outputs": [
    {
     "data": {
      "text/html": [
       "<div>\n",
       "<style scoped>\n",
       "    .dataframe tbody tr th:only-of-type {\n",
       "        vertical-align: middle;\n",
       "    }\n",
       "\n",
       "    .dataframe tbody tr th {\n",
       "        vertical-align: top;\n",
       "    }\n",
       "\n",
       "    .dataframe thead th {\n",
       "        text-align: right;\n",
       "    }\n",
       "</style>\n",
       "<table border=\"1\" class=\"dataframe\">\n",
       "  <thead>\n",
       "    <tr style=\"text-align: right;\">\n",
       "      <th></th>\n",
       "      <th>order_id</th>\n",
       "      <th>user_id</th>\n",
       "      <th>status</th>\n",
       "      <th>gender</th>\n",
       "      <th>created_at</th>\n",
       "      <th>returned_at</th>\n",
       "      <th>shipped_at</th>\n",
       "      <th>delivered_at</th>\n",
       "      <th>num_of_item</th>\n",
       "    </tr>\n",
       "  </thead>\n",
       "  <tbody>\n",
       "    <tr>\n",
       "      <th>0</th>\n",
       "      <td>8</td>\n",
       "      <td>5</td>\n",
       "      <td>Cancelled</td>\n",
       "      <td>F</td>\n",
       "      <td>2022-10-20 10:03:00+00:00</td>\n",
       "      <td>NaN</td>\n",
       "      <td>NaN</td>\n",
       "      <td>NaN</td>\n",
       "      <td>3</td>\n",
       "    </tr>\n",
       "    <tr>\n",
       "      <th>1</th>\n",
       "      <td>60</td>\n",
       "      <td>44</td>\n",
       "      <td>Cancelled</td>\n",
       "      <td>F</td>\n",
       "      <td>2023-01-20 02:12:00+00:00</td>\n",
       "      <td>NaN</td>\n",
       "      <td>NaN</td>\n",
       "      <td>NaN</td>\n",
       "      <td>1</td>\n",
       "    </tr>\n",
       "    <tr>\n",
       "      <th>2</th>\n",
       "      <td>64</td>\n",
       "      <td>46</td>\n",
       "      <td>Cancelled</td>\n",
       "      <td>F</td>\n",
       "      <td>2021-12-06 09:11:00+00:00</td>\n",
       "      <td>NaN</td>\n",
       "      <td>NaN</td>\n",
       "      <td>NaN</td>\n",
       "      <td>1</td>\n",
       "    </tr>\n",
       "  </tbody>\n",
       "</table>\n",
       "</div>"
      ],
      "text/plain": [
       "   order_id  user_id     status gender                 created_at returned_at  \\\n",
       "0         8        5  Cancelled      F  2022-10-20 10:03:00+00:00         NaN   \n",
       "1        60       44  Cancelled      F  2023-01-20 02:12:00+00:00         NaN   \n",
       "2        64       46  Cancelled      F  2021-12-06 09:11:00+00:00         NaN   \n",
       "\n",
       "  shipped_at delivered_at  num_of_item  \n",
       "0        NaN          NaN            3  \n",
       "1        NaN          NaN            1  \n",
       "2        NaN          NaN            1  "
      ]
     },
     "execution_count": 7,
     "metadata": {},
     "output_type": "execute_result"
    }
   ],
   "source": [
    "orders = pd.read_csv('C:/Users/Moi/sql_challenge/database/orders.csv')\n",
    "orders.head(3)"
   ]
  },
  {
   "cell_type": "code",
   "execution_count": 8,
   "metadata": {},
   "outputs": [
    {
     "data": {
      "text/html": [
       "<div>\n",
       "<style scoped>\n",
       "    .dataframe tbody tr th:only-of-type {\n",
       "        vertical-align: middle;\n",
       "    }\n",
       "\n",
       "    .dataframe tbody tr th {\n",
       "        vertical-align: top;\n",
       "    }\n",
       "\n",
       "    .dataframe thead th {\n",
       "        text-align: right;\n",
       "    }\n",
       "</style>\n",
       "<table border=\"1\" class=\"dataframe\">\n",
       "  <thead>\n",
       "    <tr style=\"text-align: right;\">\n",
       "      <th></th>\n",
       "      <th>id</th>\n",
       "      <th>name</th>\n",
       "      <th>latitude</th>\n",
       "      <th>longitude</th>\n",
       "    </tr>\n",
       "  </thead>\n",
       "  <tbody>\n",
       "    <tr>\n",
       "      <th>0</th>\n",
       "      <td>1</td>\n",
       "      <td>Memphis TN</td>\n",
       "      <td>35.1174</td>\n",
       "      <td>-89.9711</td>\n",
       "    </tr>\n",
       "    <tr>\n",
       "      <th>1</th>\n",
       "      <td>2</td>\n",
       "      <td>Chicago IL</td>\n",
       "      <td>41.8369</td>\n",
       "      <td>-87.6847</td>\n",
       "    </tr>\n",
       "    <tr>\n",
       "      <th>2</th>\n",
       "      <td>3</td>\n",
       "      <td>Houston TX</td>\n",
       "      <td>29.7604</td>\n",
       "      <td>-95.3698</td>\n",
       "    </tr>\n",
       "  </tbody>\n",
       "</table>\n",
       "</div>"
      ],
      "text/plain": [
       "   id        name  latitude  longitude\n",
       "0   1  Memphis TN   35.1174   -89.9711\n",
       "1   2  Chicago IL   41.8369   -87.6847\n",
       "2   3  Houston TX   29.7604   -95.3698"
      ]
     },
     "execution_count": 8,
     "metadata": {},
     "output_type": "execute_result"
    }
   ],
   "source": [
    "distribution_centers = pd.read_csv('C:/Users/Moi/sql_challenge/database/distribution_centers.csv')\n",
    "distribution_centers.head(3)"
   ]
  },
  {
   "cell_type": "markdown",
   "metadata": {},
   "source": [
    "## Analyse des sources de trafic"
   ]
  },
  {
   "cell_type": "code",
   "execution_count": 49,
   "metadata": {},
   "outputs": [
    {
     "data": {
      "text/plain": [
       "┌─────────┬─────────┬─────────────────┬────────────────────────┬───────────────┬─────────┬────────────────┬────────────┐\n",
       "│   id    │ user_id │ sequence_number │       created_at       │  ip_address   │ browser │ traffic_source │ event_type │\n",
       "│  int64  │ double  │      int64      │        varchar         │    varchar    │ varchar │    varchar     │  varchar   │\n",
       "├─────────┼─────────┼─────────────────┼────────────────────────┼───────────────┼─────────┼────────────────┼────────────┤\n",
       "│ 1046912 │ 80041.0 │              13 │ 2023-06-24 16:13:34+…  │ 130.75.147.39 │ Chrome  │ Email          │ purchase   │\n",
       "│ 1046910 │ 80041.0 │              11 │ 2023-06-21 16:11:04+…  │ 130.75.147.39 │ Chrome  │ Email          │ product    │\n",
       "│ 1046900 │ 80041.0 │               1 │ 2023-06-21 15:59:22+…  │ 130.75.147.39 │ Chrome  │ Email          │ department │\n",
       "│ 1046905 │ 80041.0 │               6 │ 2023-06-21 16:03:17+…  │ 130.75.147.39 │ Chrome  │ Email          │ cart       │\n",
       "│ 1046904 │ 80041.0 │               5 │ 2023-06-21 16:03:12+…  │ 130.75.147.39 │ Chrome  │ Email          │ product    │\n",
       "│ 1046908 │ 80041.0 │               9 │ 2023-06-21 16:07:27+…  │ 130.75.147.39 │ Chrome  │ Email          │ cart       │\n",
       "│ 1046911 │ 80041.0 │              12 │ 2023-06-21 16:12:35+…  │ 130.75.147.39 │ Chrome  │ Email          │ cart       │\n",
       "│ 1046902 │ 80041.0 │               3 │ 2023-06-21 16:00:44+…  │ 130.75.147.39 │ Chrome  │ Email          │ cart       │\n",
       "└─────────┴─────────┴─────────────────┴────────────────────────┴───────────────┴─────────┴────────────────┴────────────┘"
      ]
     },
     "execution_count": 49,
     "metadata": {},
     "output_type": "execute_result"
    }
   ],
   "source": [
    "query = \"\"\" \n",
    "SELECT id, user_id, sequence_number, created_at, ip_address, browser, traffic_source, event_type\n",
    "FROM events\n",
    "WHERE session_id ='45ce8e0a-1659-4039-82fb-356f9848e60d'\n",
    "\"\"\"\n",
    "\n",
    "db.sql(query)"
   ]
  },
  {
   "cell_type": "markdown",
   "metadata": {},
   "source": [
    "nous avons recuperer une session, et nous constatons bien evidement qu'il corespond à un seul et unique utilisateur '80041'. cet utilisateur \n",
    "a effectuer plusieurs evenement ou interaction dont la première est le clique sur une catégorie de produits (department), puis l'ajout au panier et \n",
    "à la fin (13 : sequence_number) il a acheté le produit avant de quiter sa session.\n",
    "On constate aussi que l'action d'achat a été effectué le 24/06/2024 dont 3 jours après avoir consulter le produit et le mettre dans le panier.\n",
    "donc ce qui voudrais dire que l'orsqu'un user ouvre une session, il peut réactiver la meme session et poursuivre son parcours d'achat.\n",
    "\n",
    "Voyons voir si ce client peut avoir plusieurs session à la fois."
   ]
  },
  {
   "cell_type": "code",
   "execution_count": 51,
   "metadata": {},
   "outputs": [
    {
     "data": {
      "text/plain": [
       "┌─────────┬──────────────────────┬─────────────────┬──────────────────────┬───┬─────────┬────────────────┬────────────┐\n",
       "│   id    │      session_id      │ sequence_number │      created_at      │ … │ browser │ traffic_source │ event_type │\n",
       "│  int64  │       varchar        │      int64      │       varchar        │   │ varchar │    varchar     │  varchar   │\n",
       "├─────────┼──────────────────────┼─────────────────┼──────────────────────┼───┼─────────┼────────────────┼────────────┤\n",
       "│ 1046912 │ 45ce8e0a-1659-4039…  │              13 │ 2023-06-24 16:13:3…  │ … │ Chrome  │ Email          │ purchase   │\n",
       "│ 1046883 │ 37479389-5e6f-4a55…  │              10 │ 2023-06-21 16:25:4…  │ … │ Firefox │ Adwords        │ department │\n",
       "│ 1046892 │ 088032a4-2d5b-4040…  │               6 │ 2023-06-21 14:25:3…  │ … │ Chrome  │ Email          │ cart       │\n",
       "│ 1046877 │ 37479389-5e6f-4a55…  │               4 │ 2023-06-21 16:16:3…  │ … │ Firefox │ Adwords        │ department │\n",
       "│ 1046922 │ 7f1b4e9e-2e18-40cf…  │              10 │ 2023-06-21 14:34:0…  │ … │ Firefox │ Email          │ department │\n",
       "│ 1046910 │ 45ce8e0a-1659-4039…  │              11 │ 2023-06-21 16:11:0…  │ … │ Chrome  │ Email          │ product    │\n",
       "│ 1046900 │ 45ce8e0a-1659-4039…  │               1 │ 2023-06-21 15:59:2…  │ … │ Chrome  │ Email          │ department │\n",
       "│ 1046884 │ 37479389-5e6f-4a55…  │              11 │ 2023-06-21 16:27:4…  │ … │ Firefox │ Adwords        │ product    │\n",
       "│ 1046916 │ 7f1b4e9e-2e18-40cf…  │               4 │ 2023-06-21 14:22:2…  │ … │ Firefox │ Email          │ department │\n",
       "│ 1046897 │ 088032a4-2d5b-4040…  │              11 │ 2023-06-21 14:31:3…  │ … │ Chrome  │ Email          │ product    │\n",
       "│    ·    │          ·           │               · │          ·           │ · │   ·     │   ·            │    ·       │\n",
       "│    ·    │          ·           │               · │          ·           │ · │   ·     │   ·            │    ·       │\n",
       "│    ·    │          ·           │               · │          ·           │ · │   ·     │   ·            │    ·       │\n",
       "│ 1046925 │ 7f1b4e9e-2e18-40cf…  │              13 │ 2023-06-23 14:38:5…  │ … │ Firefox │ Email          │ purchase   │\n",
       "│ 1046879 │ 37479389-5e6f-4a55…  │               6 │ 2023-06-21 16:19:0…  │ … │ Firefox │ Adwords        │ cart       │\n",
       "│ 1046880 │ 37479389-5e6f-4a55…  │               7 │ 2023-06-21 16:20:2…  │ … │ Firefox │ Adwords        │ department │\n",
       "│ 1046908 │ 45ce8e0a-1659-4039…  │               9 │ 2023-06-21 16:07:2…  │ … │ Chrome  │ Email          │ cart       │\n",
       "│ 1046911 │ 45ce8e0a-1659-4039…  │              12 │ 2023-06-21 16:12:3…  │ … │ Chrome  │ Email          │ cart       │\n",
       "│ 1046886 │ 37479389-5e6f-4a55…  │              13 │ 2023-06-25 16:28:5…  │ … │ Firefox │ Adwords        │ purchase   │\n",
       "│ 1046882 │ 37479389-5e6f-4a55…  │               9 │ 2023-06-21 16:23:0…  │ … │ Firefox │ Adwords        │ cart       │\n",
       "│ 1046893 │ 088032a4-2d5b-4040…  │               7 │ 2023-06-21 14:25:3…  │ … │ Chrome  │ Email          │ department │\n",
       "│ 1046902 │ 45ce8e0a-1659-4039…  │               3 │ 2023-06-21 16:00:4…  │ … │ Chrome  │ Email          │ cart       │\n",
       "│ 1046888 │ 088032a4-2d5b-4040…  │               2 │ 2023-06-21 14:21:2…  │ … │ Chrome  │ Email          │ product    │\n",
       "├─────────┴──────────────────────┴─────────────────┴──────────────────────┴───┴─────────┴────────────────┴────────────┤\n",
       "│ 26 rows (20 shown)                                                                              8 columns (7 shown) │\n",
       "└─────────────────────────────────────────────────────────────────────────────────────────────────────────────────────┘"
      ]
     },
     "execution_count": 51,
     "metadata": {},
     "output_type": "execute_result"
    }
   ],
   "source": [
    "query = \"\"\" \n",
    "SELECT id, session_id, sequence_number, created_at, ip_address, browser, traffic_source, event_type\n",
    "FROM events\n",
    "WHERE user_id =80041.0\n",
    "\"\"\"\n",
    "\n",
    "db.sql(query)"
   ]
  },
  {
   "cell_type": "code",
   "execution_count": 55,
   "metadata": {},
   "outputs": [
    {
     "data": {
      "text/plain": [
       "┌──────────┬───────────┬─────────┬───────────────────────────┬─────────────┬────────────┬──────────────┐\n",
       "│ order_id │  status   │ gender  │        created_at         │ returned_at │ shipped_at │ delivered_at │\n",
       "│  int64   │  varchar  │ varchar │          varchar          │   varchar   │  varchar   │   varchar    │\n",
       "├──────────┼───────────┼─────────┼───────────────────────────┼─────────────┼────────────┼──────────────┤\n",
       "│   100264 │ Cancelled │ F       │ 2023-06-21 16:24:00+00:00 │ NULL        │ NULL       │ NULL         │\n",
       "└──────────┴───────────┴─────────┴───────────────────────────┴─────────────┴────────────┴──────────────┘"
      ]
     },
     "execution_count": 55,
     "metadata": {},
     "output_type": "execute_result"
    }
   ],
   "source": [
    "query = \"\"\" \n",
    "SELECT order_id,status,gender, created_at, returned_at, shipped_at, delivered_at\n",
    "FROM orders\n",
    "WHERE user_id =80041.0\n",
    "\"\"\"\n",
    "\n",
    "db.sql(query)"
   ]
  },
  {
   "cell_type": "code",
   "execution_count": 54,
   "metadata": {},
   "outputs": [
    {
     "data": {
      "text/plain": [
       "┌────────────┐\n",
       "│   status   │\n",
       "│  varchar   │\n",
       "├────────────┤\n",
       "│ Shipped    │\n",
       "│ Processing │\n",
       "│ Cancelled  │\n",
       "│ Complete   │\n",
       "│ Returned   │\n",
       "└────────────┘"
      ]
     },
     "execution_count": 54,
     "metadata": {},
     "output_type": "execute_result"
    }
   ],
   "source": [
    "query = \"\"\" \n",
    "SELECT DISTINCT status \n",
    "FROM orders\n",
    "\"\"\"\n",
    "\n",
    "db.sql(query)"
   ]
  },
  {
   "cell_type": "code",
   "execution_count": 56,
   "metadata": {},
   "outputs": [
    {
     "data": {
      "text/plain": [
       "id                   int64\n",
       "user_id            float64\n",
       "sequence_number      int64\n",
       "session_id          object\n",
       "created_at          object\n",
       "ip_address          object\n",
       "city                object\n",
       "state               object\n",
       "postal_code         object\n",
       "browser             object\n",
       "traffic_source      object\n",
       "uri                 object\n",
       "event_type          object\n",
       "Unnamed: 13         object\n",
       "dtype: object"
      ]
     },
     "execution_count": 56,
     "metadata": {},
     "output_type": "execute_result"
    }
   ],
   "source": [
    "events.dtypes"
   ]
  },
  {
   "cell_type": "markdown",
   "metadata": {},
   "source": [
    "### QUESTION 1 :  D’où proviennent la majorité des sessions de site web ? Comment elles sont reparties par source de campagne, par source de navigateur ?"
   ]
  },
  {
   "cell_type": "code",
   "execution_count": 60,
   "metadata": {},
   "outputs": [
    {
     "data": {
      "text/plain": [
       "┌────────────────┬─────────────────┐\n",
       "│ traffic_source │ num_of_sessions │\n",
       "│    varchar     │      int64      │\n",
       "├────────────────┼─────────────────┤\n",
       "│ Email          │          232431 │\n",
       "│ Adwords        │          155550 │\n",
       "│ YouTube        │           51865 │\n",
       "│ Facebook       │           51548 │\n",
       "│ Organic        │           26151 │\n",
       "└────────────────┴─────────────────┘"
      ]
     },
     "execution_count": 60,
     "metadata": {},
     "output_type": "execute_result"
    }
   ],
   "source": [
    "query = \"\"\" \n",
    "SELECT traffic_source, \n",
    "       COUNT(DISTINCT session_id) AS num_of_sessions\n",
    "FROM events\n",
    "GROUP BY traffic_source\n",
    "         \n",
    "ORDER BY num_of_sessions DESC\n",
    "\"\"\"\n",
    "\n",
    "db.sql(query)"
   ]
  },
  {
   "cell_type": "markdown",
   "metadata": {},
   "source": [
    "Les campagnes par email sont la source de trafic la plus importante, représentant le plus grand nombre de sessions.\n",
    "Analyse : Cela peut indiquer une base d'abonnés solide et des campagnes d'emailing efficaces. Il pourrait être intéressant de continuer à investir dans l'email marketing en optimisant les contenus et les envois pour maintenir ou augmenter cet engagement.\n",
    "\n",
    "Les annonces payantes via Google Adwords sont la deuxième source de trafic.\n",
    "Analyse : Adwords joue un rôle crucial dans la génération de trafic payant. L'investissement dans ces annonces semble être rentable, et il pourrait être utile d'analyser les campagnes spécifiques pour voir lesquelles sont les plus performantes et pourquoi.\n",
    "\n",
    "Cette analyse des sources de trafic montre que les emails et les annonces payantes via Google Adwords sont les plus efficaces pour générer des sessions. Toutefois, il est important de diversifier les sources de trafic et d'optimiser chaque canal pour maximiser le retour sur investissement et atteindre un public plus large."
   ]
  },
  {
   "cell_type": "code",
   "execution_count": 62,
   "metadata": {},
   "outputs": [
    {
     "data": {
      "text/plain": [
       "┌────────────────┬─────────┬─────────────────┐\n",
       "│ traffic_source │ browser │ num_of_sessions │\n",
       "│    varchar     │ varchar │      int64      │\n",
       "├────────────────┼─────────┼─────────────────┤\n",
       "│ Email          │ Chrome  │          116232 │\n",
       "│ Adwords        │ Chrome  │           77880 │\n",
       "│ Email          │ Firefox │           46722 │\n",
       "│ Email          │ Safari  │           46217 │\n",
       "│ Adwords        │ Firefox │           31156 │\n",
       "│ Adwords        │ Safari  │           30966 │\n",
       "│ YouTube        │ Chrome  │           25896 │\n",
       "│ Facebook       │ Chrome  │           25649 │\n",
       "│ Organic        │ Chrome  │           13227 │\n",
       "│ Email          │ IE      │           11714 │\n",
       "│   ·            │ ·       │              ·  │\n",
       "│   ·            │ ·       │              ·  │\n",
       "│   ·            │ ·       │              ·  │\n",
       "│ Adwords        │ Other   │            7811 │\n",
       "│ Adwords        │ IE      │            7737 │\n",
       "│ Organic        │ Safari  │            5220 │\n",
       "│ Organic        │ Firefox │            5085 │\n",
       "│ YouTube        │ IE      │            2666 │\n",
       "│ Facebook       │ IE      │            2610 │\n",
       "│ YouTube        │ Other   │            2583 │\n",
       "│ Facebook       │ Other   │            2503 │\n",
       "│ Organic        │ IE      │            1332 │\n",
       "│ Organic        │ Other   │            1287 │\n",
       "├────────────────┴─────────┴─────────────────┤\n",
       "│ 25 rows (20 shown)               3 columns │\n",
       "└────────────────────────────────────────────┘"
      ]
     },
     "execution_count": 62,
     "metadata": {},
     "output_type": "execute_result"
    }
   ],
   "source": [
    "query = \"\"\" \n",
    "SELECT traffic_source,\n",
    "       browser,\n",
    "       COUNT(DISTINCT session_id) AS num_of_sessions\n",
    "FROM events\n",
    "GROUP BY traffic_source,\n",
    "         browser\n",
    "         \n",
    "ORDER BY num_of_sessions DESC\n",
    "\"\"\"\n",
    "\n",
    "db.sql(query)"
   ]
  },
  {
   "cell_type": "markdown",
   "metadata": {},
   "source": [
    "La majorité des sessions générées par les emails proviennent des utilisateurs de Chrome, ce qui est conforme aux tendances générales du marché où Chrome est le navigateur le plus utilisé.\n",
    "Firefox  et Safari : Un nombre significatif de sessions provient également de ces navigateurs, ce qui montre une diversité dans la base d'utilisateurs.\n",
    " Bien que IE soit un navigateur moins populaire, il génère encore un nombre notable de sessions via les emails."
   ]
  },
  {
   "cell_type": "markdown",
   "metadata": {},
   "source": [
    "### QUESTION 2 : comprendre les taux de conversion des sessions en commandes\n",
    " D’après les résultats de la première question, les campagnes emailing et les annonces googles adwords sont les deux sources de traffic les plus importantes. \n",
    "Nous souhaitons creuser profondément ces campagnes et essayer de comprendre les taux de conversion des sessions en commandes. En d'autres termes, il s'agit de déterminer quel pourcentage des sessions se convertissent en vente pour l'entreprise.\n"
   ]
  },
  {
   "cell_type": "code",
   "execution_count": 66,
   "metadata": {},
   "outputs": [
    {
     "data": {
      "text/plain": [
       "┌────────────────┬──────────┬──────────────┬──────────────────────────┐\n",
       "│ traffic_source │ sessions │ num_of_order │ session_to_order_conv_rt │\n",
       "│    varchar     │  int64   │    int64     │          double          │\n",
       "├────────────────┼──────────┼──────────────┼──────────────────────────┤\n",
       "│ Adwords        │   155550 │        70654 │       0.4542205078752813 │\n",
       "│ Email          │   232431 │        89291 │      0.38416132099418754 │\n",
       "└────────────────┴──────────┴──────────────┴──────────────────────────┘"
      ]
     },
     "execution_count": 66,
     "metadata": {},
     "output_type": "execute_result"
    }
   ],
   "source": [
    "query = \"\"\" \n",
    "WITH events_Email_Adwords AS (\n",
    "    SELECT *\n",
    "    FROM events\n",
    "    WHERE traffic_source IN ('Email', 'Adwords')\n",
    ")\n",
    "SELECT events_Email_Adwords.traffic_source,\n",
    "       COUNT(DISTINCT events_Email_Adwords.session_id) AS sessions,\n",
    "       COUNT(DISTINCT orders.order_id) AS num_of_order,\n",
    "       COUNT(DISTINCT orders.order_id)/ COUNT(DISTINCT events_Email_Adwords.session_id) AS session_to_order_conv_rt\n",
    "FROM events_Email_Adwords \n",
    "LEFT JOIN orders ON events_Email_Adwords.user_id = orders.user_id\n",
    "GROUP BY events_Email_Adwords.traffic_source\n",
    "\"\"\"\n",
    "\n",
    "db.sql(query)"
   ]
  }
 ],
 "metadata": {
  "kernelspec": {
   "display_name": ".venv",
   "language": "python",
   "name": "python3"
  },
  "language_info": {
   "codemirror_mode": {
    "name": "ipython",
    "version": 3
   },
   "file_extension": ".py",
   "mimetype": "text/x-python",
   "name": "python",
   "nbconvert_exporter": "python",
   "pygments_lexer": "ipython3",
   "version": "3.11.9"
  }
 },
 "nbformat": 4,
 "nbformat_minor": 2
}
