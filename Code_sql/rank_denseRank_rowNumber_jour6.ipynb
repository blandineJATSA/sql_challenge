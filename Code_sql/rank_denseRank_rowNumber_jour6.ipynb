{
 "cells": [
  {
   "cell_type": "markdown",
   "metadata": {},
   "source": [
    "##  Difference entre ROW_number, RANK, DENSE_RANK\n",
    "\n",
    "### Exemple pratique : Une requète qui classe les produits au sein de chaque catégorie basé sur leurs prix de détail "
   ]
  },
  {
   "cell_type": "code",
   "execution_count": 1,
   "metadata": {},
   "outputs": [],
   "source": [
    "# Importation des packages\n",
    "\n",
    "import pandas as pd\n",
    "import numpy as np\n",
    "import duckdb as db"
   ]
  },
  {
   "cell_type": "code",
   "execution_count": 4,
   "metadata": {},
   "outputs": [
    {
     "data": {
      "text/html": [
       "<div>\n",
       "<style scoped>\n",
       "    .dataframe tbody tr th:only-of-type {\n",
       "        vertical-align: middle;\n",
       "    }\n",
       "\n",
       "    .dataframe tbody tr th {\n",
       "        vertical-align: top;\n",
       "    }\n",
       "\n",
       "    .dataframe thead th {\n",
       "        text-align: right;\n",
       "    }\n",
       "</style>\n",
       "<table border=\"1\" class=\"dataframe\">\n",
       "  <thead>\n",
       "    <tr style=\"text-align: right;\">\n",
       "      <th></th>\n",
       "      <th>id</th>\n",
       "      <th>category</th>\n",
       "      <th>name</th>\n",
       "      <th>brand</th>\n",
       "      <th>retail_price</th>\n",
       "    </tr>\n",
       "  </thead>\n",
       "  <tbody>\n",
       "    <tr>\n",
       "      <th>0</th>\n",
       "      <td>1</td>\n",
       "      <td>Shirts</td>\n",
       "      <td>Casual Shirt</td>\n",
       "      <td>BrandA</td>\n",
       "      <td>30.0</td>\n",
       "    </tr>\n",
       "    <tr>\n",
       "      <th>1</th>\n",
       "      <td>2</td>\n",
       "      <td>Shirts</td>\n",
       "      <td>Formal Shirt</td>\n",
       "      <td>BrandB</td>\n",
       "      <td>30.0</td>\n",
       "    </tr>\n",
       "  </tbody>\n",
       "</table>\n",
       "</div>"
      ],
      "text/plain": [
       "   id category          name   brand  retail_price\n",
       "0   1   Shirts  Casual Shirt  BrandA          30.0\n",
       "1   2   Shirts  Formal Shirt  BrandB          30.0"
      ]
     },
     "execution_count": 4,
     "metadata": {},
     "output_type": "execute_result"
    }
   ],
   "source": [
    "# Importation du jeu de données à utiliser\n",
    "# j'ai choisi une toute petite base de données, juste pour mettre l'accent sur l'explication\n",
    "\n",
    "products = pd.read_csv(\"C:/Users/Moi/sql_challenge/database/products_for_exemple.csv\")\n",
    "\n",
    "products.head(2)"
   ]
  },
  {
   "cell_type": "code",
   "execution_count": 6,
   "metadata": {},
   "outputs": [
    {
     "data": {
      "text/plain": [
       "┌───────┬──────────┬───────────────┬─────────┬──────────────┬─────────┬───────┬────────────┐\n",
       "│  id   │ category │     name      │  brand  │ retail_price │ row_num │ rank  │ dense_rank │\n",
       "│ int64 │ varchar  │    varchar    │ varchar │    double    │  int64  │ int64 │   int64    │\n",
       "├───────┼──────────┼───────────────┼─────────┼──────────────┼─────────┼───────┼────────────┤\n",
       "│     1 │ Shirts   │ Casual Shirt  │ BrandA  │         30.0 │       1 │     1 │          1 │\n",
       "│     2 │ Shirts   │ Formal Shirt  │ BrandB  │         30.0 │       2 │     1 │          1 │\n",
       "│     3 │ Shirts   │ T-Shirt       │ BrandC  │         20.0 │       3 │     3 │          2 │\n",
       "│     7 │ Shoes    │ Running Shoes │ BrandA  │         80.0 │       1 │     1 │          1 │\n",
       "│     8 │ Shoes    │ Formal Shoes  │ BrandB  │         80.0 │       2 │     1 │          1 │\n",
       "│     9 │ Shoes    │ Sneakers      │ BrandC  │         60.0 │       3 │     3 │          2 │\n",
       "│     4 │ Pants    │ Jeans         │ BrandA  │         50.0 │       1 │     1 │          1 │\n",
       "│     5 │ Pants    │ Chinos        │ BrandB  │         50.0 │       2 │     1 │          1 │\n",
       "│     6 │ Pants    │ Shorts        │ BrandC  │         40.0 │       3 │     3 │          2 │\n",
       "└───────┴──────────┴───────────────┴─────────┴──────────────┴─────────┴───────┴────────────┘"
      ]
     },
     "execution_count": 6,
     "metadata": {},
     "output_type": "execute_result"
    }
   ],
   "source": [
    "# Une requète qui classe les produits au sein de chaque catégorie basé sur leurs prix de détail \n",
    "\n",
    "query = \"\"\"  \n",
    "SELECT *,\n",
    "    ROW_NUMBER() OVER (PARTITION BY category ORDER BY retail_price DESC) AS row_num,\n",
    "    RANK() OVER (PARTITION BY category ORDER BY retail_price DESC) AS rank,\n",
    "    DENSE_RANK() OVER (PARTITION BY category ORDER BY retail_price DESC) AS dense_rank\n",
    "FROM\n",
    "    products;\n",
    "\"\"\"\n",
    "\n",
    "db.sql(query)"
   ]
  }
 ],
 "metadata": {
  "kernelspec": {
   "display_name": ".venv",
   "language": "python",
   "name": "python3"
  },
  "language_info": {
   "codemirror_mode": {
    "name": "ipython",
    "version": 3
   },
   "file_extension": ".py",
   "mimetype": "text/x-python",
   "name": "python",
   "nbconvert_exporter": "python",
   "pygments_lexer": "ipython3",
   "version": "3.11.9"
  }
 },
 "nbformat": 4,
 "nbformat_minor": 2
}
